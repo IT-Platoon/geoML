{
 "cells": [
  {
   "cell_type": "code",
   "execution_count": 42,
   "metadata": {
    "_cell_guid": "b1076dfc-b9ad-4769-8c92-a6c4dae69d19",
    "_uuid": "8f2839f25d086af736a60e9eeb907d3b93b6e0e5",
    "execution": {
     "iopub.execute_input": "2023-08-27T04:42:20.145253Z",
     "iopub.status.busy": "2023-08-27T04:42:20.144824Z",
     "iopub.status.idle": "2023-08-27T04:42:20.161267Z",
     "shell.execute_reply": "2023-08-27T04:42:20.160248Z",
     "shell.execute_reply.started": "2023-08-27T04:42:20.145219Z"
    }
   },
   "outputs": [],
   "source": [
    "import numpy as np # linear algebra\n",
    "import pandas as pd # data processing, CSV file I/O (e.g. pd.read_csv)\n",
    "from tqdm import tqdm"
   ]
  },
  {
   "cell_type": "markdown",
   "metadata": {},
   "source": [
    "# Загрузка данных"
   ]
  },
  {
   "cell_type": "code",
   "execution_count": 3,
   "metadata": {
    "execution": {
     "iopub.execute_input": "2023-08-27T04:42:20.177267Z",
     "iopub.status.busy": "2023-08-27T04:42:20.173901Z",
     "iopub.status.idle": "2023-08-27T04:42:21.856713Z",
     "shell.execute_reply": "2023-08-27T04:42:21.855328Z",
     "shell.execute_reply.started": "2023-08-27T04:42:20.177232Z"
    }
   },
   "outputs": [
    {
     "name": "stdout",
     "output_type": "stream",
     "text": [
      "df1 (1150, 4)\n",
      "df2 (5597, 4)\n",
      "df3 (4045, 4)\n",
      "df4 (25268, 4)\n",
      "df5 (138288, 4)\n",
      "df (174290, 3)\n"
     ]
    },
    {
     "data": {
      "text/html": [
       "<div>\n",
       "<style scoped>\n",
       "    .dataframe tbody tr th:only-of-type {\n",
       "        vertical-align: middle;\n",
       "    }\n",
       "\n",
       "    .dataframe tbody tr th {\n",
       "        vertical-align: top;\n",
       "    }\n",
       "\n",
       "    .dataframe thead th {\n",
       "        text-align: right;\n",
       "    }\n",
       "</style>\n",
       "<table border=\"1\" class=\"dataframe\">\n",
       "  <thead>\n",
       "    <tr style=\"text-align: right;\">\n",
       "      <th></th>\n",
       "      <th>address</th>\n",
       "      <th>target_id</th>\n",
       "      <th>target_address</th>\n",
       "    </tr>\n",
       "  </thead>\n",
       "  <tbody>\n",
       "    <tr>\n",
       "      <th>0</th>\n",
       "      <td>196641, Санкт-Петербург г, Школьная ул, д.5</td>\n",
       "      <td>76337</td>\n",
       "      <td>Санкт-Петербург, город Павловск, Пязелево, Шко...</td>\n",
       "    </tr>\n",
       "    <tr>\n",
       "      <th>1</th>\n",
       "      <td>Санкт-Петербург (г.), Железнодорожный (пр-кт.)...</td>\n",
       "      <td>220011</td>\n",
       "      <td>г.Санкт-Петербург, Железнодорожный проспект, д...</td>\n",
       "    </tr>\n",
       "    <tr>\n",
       "      <th>2</th>\n",
       "      <td>198325, Санкт-Петербург г, Красное Село г, Теа...</td>\n",
       "      <td>109979</td>\n",
       "      <td>Санкт-Петербург, город Красное Село, Дудергоф,...</td>\n",
       "    </tr>\n",
       "    <tr>\n",
       "      <th>3</th>\n",
       "      <td>195256, Санкт-Петербург (г.), Верности (ул.), ...</td>\n",
       "      <td>72112</td>\n",
       "      <td>г.Санкт-Петербург, улица Верности, дом 28, кор...</td>\n",
       "    </tr>\n",
       "    <tr>\n",
       "      <th>4</th>\n",
       "      <td>194291, Санкт-Петербург (г.), Кустодиева (ул.)...</td>\n",
       "      <td>186531</td>\n",
       "      <td>г.Санкт-Петербург, улица Кустодиева, дом 1, ли...</td>\n",
       "    </tr>\n",
       "  </tbody>\n",
       "</table>\n",
       "</div>"
      ],
      "text/plain": [
       "                                             address  target_id  \\\n",
       "0        196641, Санкт-Петербург г, Школьная ул, д.5      76337   \n",
       "1  Санкт-Петербург (г.), Железнодорожный (пр-кт.)...     220011   \n",
       "2  198325, Санкт-Петербург г, Красное Село г, Теа...     109979   \n",
       "3  195256, Санкт-Петербург (г.), Верности (ул.), ...      72112   \n",
       "4  194291, Санкт-Петербург (г.), Кустодиева (ул.)...     186531   \n",
       "\n",
       "                                      target_address  \n",
       "0  Санкт-Петербург, город Павловск, Пязелево, Шко...  \n",
       "1  г.Санкт-Петербург, Железнодорожный проспект, д...  \n",
       "2  Санкт-Петербург, город Красное Село, Дудергоф,...  \n",
       "3  г.Санкт-Петербург, улица Верности, дом 28, кор...  \n",
       "4  г.Санкт-Петербург, улица Кустодиева, дом 1, ли...  "
      ]
     },
     "execution_count": 3,
     "metadata": {},
     "output_type": "execute_result"
    }
   ],
   "source": [
    "df1 = pd.read_csv('./dataset_1.csv')\n",
    "df2 = pd.read_csv('./dataset_2.csv')\n",
    "df3 = pd.read_csv('./dataset_3.csv')\n",
    "df4 = pd.read_csv('./dataset_4.csv')\n",
    "df5 = pd.read_csv('./dataset_5.csv')\n",
    "\n",
    "df = pd.concat([df1, df2, df3, df4, df5])\n",
    "df = df.drop(['Unnamed: 0'], axis=1)\n",
    "\n",
    "df = df.dropna()\n",
    "\n",
    "df.target_building_id = df.target_building_id.astype('int64')\n",
    "\n",
    "df.rename(columns = {'target_building_id': 'target_id'}, inplace=True)\n",
    "\n",
    "print('df1', df1.shape)\n",
    "print('df2', df2.shape)\n",
    "print('df3', df3.shape)\n",
    "print('df4', df4.shape)\n",
    "print('df5', df5.shape)\n",
    "print('df', df.shape)\n",
    "\n",
    "df.head()"
   ]
  },
  {
   "cell_type": "markdown",
   "metadata": {},
   "source": [
    "Почистим df"
   ]
  },
  {
   "cell_type": "code",
   "execution_count": null,
   "metadata": {
    "execution": {
     "iopub.execute_input": "2023-08-27T04:42:21.858940Z",
     "iopub.status.busy": "2023-08-27T04:42:21.858258Z",
     "iopub.status.idle": "2023-08-27T04:42:21.864197Z",
     "shell.execute_reply": "2023-08-27T04:42:21.863335Z",
     "shell.execute_reply.started": "2023-08-27T04:42:21.858905Z"
    }
   },
   "outputs": [],
   "source": [
    "# def crear_target_address():\n",
    "#     min_id, max_id = min(df['target_id']), max(df['target_id'])\n",
    "\n",
    "#     need_fix = {}\n",
    "#     counter = 0\n",
    "\n",
    "#     for cur_id in range(min_id, max_id):\n",
    "#         coincidences = df.loc[df['target_id'] == cur_id]\n",
    "#         count_row = coincidences.shape[0]\n",
    "#         if count_row <= 1:\n",
    "#             pass\n",
    "#         else:\n",
    "#             cur_addresses = list(coincidences['target_address'])\n",
    "#             if cur_addresses.count(cur_addresses[0]) != len(cur_addresses):\n",
    "#                 need_fix[cur_id] = cur_addresses\n",
    "#         counter += 1\n",
    "\n",
    "#     def most_frequent(item):\n",
    "#         unique, counts = np.unique(item, return_counts=True)\n",
    "#         index = np.argmax(counts)\n",
    "#         return unique[index]\n",
    "\n",
    "#     max_key = max(list(need_fix.keys()))\n",
    "\n",
    "#     for key, value in need_fix.items():\n",
    "#         freq = most_frequent(value)\n",
    "#         df.loc[df['target_id'] == key, 'target_address'] = freq\n",
    "\n",
    "\n",
    "# crear_target_address()"
   ]
  },
  {
   "cell_type": "code",
   "execution_count": 4,
   "metadata": {
    "execution": {
     "iopub.execute_input": "2023-08-27T04:42:21.868762Z",
     "iopub.status.busy": "2023-08-27T04:42:21.867948Z",
     "iopub.status.idle": "2023-08-27T04:42:24.249500Z",
     "shell.execute_reply": "2023-08-27T04:42:24.248601Z",
     "shell.execute_reply.started": "2023-08-27T04:42:21.868729Z"
    }
   },
   "outputs": [
    {
     "name": "stderr",
     "output_type": "stream",
     "text": [
      "C:\\Users\\Максим\\AppData\\Local\\Temp\\ipykernel_10984\\2377113874.py:3: DtypeWarning: Columns (4,6,7,14,15) have mixed types. Specify dtype option on import or set low_memory=False.\n",
      "  df_building = pd.read_csv('./building_20230808.csv')\n"
     ]
    },
    {
     "name": "stdout",
     "output_type": "stream",
     "text": [
      "df_area (3251, 7)\n",
      "df_areatype (72, 5)\n",
      "df_building (166645, 16)\n",
      "df_district (40, 4)\n",
      "df_geonim (6207, 7)\n",
      "df_geonimtype (23, 5)\n",
      "df_prefix (16341, 12)\n",
      "df_subrf (18, 5)\n",
      "df_town (198, 7)\n"
     ]
    }
   ],
   "source": [
    "df_area = pd.read_csv('./area_20230808.csv')\n",
    "df_areatype = pd.read_csv('./areatype_20230808.csv')\n",
    "df_building = pd.read_csv('./building_20230808.csv')\n",
    "df_district = pd.read_csv('./district_20230808.csv')\n",
    "df_geonim = pd.read_csv('./geonim_20230808.csv')\n",
    "df_geonimtype = pd.read_csv('./geonimtype_20230808.csv')\n",
    "df_prefix = pd.read_csv('./prefix_20230808.csv')\n",
    "df_subrf = pd.read_csv('./subrf_20230808.csv')\n",
    "df_town = pd.read_csv('./town_20230808.csv')\n",
    "\n",
    "print('df_area', df_area.shape)\n",
    "print('df_areatype', df_areatype.shape)\n",
    "print('df_building', df_building.shape)\n",
    "print('df_district', df_district.shape)\n",
    "print('df_geonim', df_geonim.shape)\n",
    "print('df_geonimtype', df_geonimtype.shape)\n",
    "print('df_prefix', df_prefix.shape)\n",
    "print('df_subrf', df_subrf.shape)\n",
    "print('df_town', df_town.shape)"
   ]
  },
  {
   "cell_type": "code",
   "execution_count": 5,
   "metadata": {
    "execution": {
     "iopub.execute_input": "2023-08-27T04:42:24.256056Z",
     "iopub.status.busy": "2023-08-27T04:42:24.253829Z",
     "iopub.status.idle": "2023-08-27T04:42:24.276387Z",
     "shell.execute_reply": "2023-08-27T04:42:24.275431Z",
     "shell.execute_reply.started": "2023-08-27T04:42:24.256021Z"
    }
   },
   "outputs": [],
   "source": [
    "df_area = df_area.drop(['name', 'short_name'], axis=1)\n",
    "df_areatype = df_areatype.drop(['short_name'], axis=1)\n",
    "df_district = df_district.drop(['is_updated'], axis=1)\n",
    "df_geonim = df_geonim.drop(['name', 'short_name'], axis=1)\n",
    "df_geonimtype = df_geonimtype.drop(['short_name'], axis=1)\n",
    "df_prefix = df_prefix.drop(['short_name'], axis=1)\n",
    "df_subrf = df_subrf.drop(['short_name'], axis=1)\n",
    "df_town = df_town.drop(['short_name'], axis=1)"
   ]
  },
  {
   "cell_type": "code",
   "execution_count": 6,
   "metadata": {
    "execution": {
     "iopub.execute_input": "2023-08-27T04:42:24.283392Z",
     "iopub.status.busy": "2023-08-27T04:42:24.280864Z",
     "iopub.status.idle": "2023-08-27T04:42:24.298802Z",
     "shell.execute_reply": "2023-08-27T04:42:24.297744Z",
     "shell.execute_reply.started": "2023-08-27T04:42:24.283330Z"
    }
   },
   "outputs": [
    {
     "data": {
      "text/html": [
       "<div>\n",
       "<style scoped>\n",
       "    .dataframe tbody tr th:only-of-type {\n",
       "        vertical-align: middle;\n",
       "    }\n",
       "\n",
       "    .dataframe tbody tr th {\n",
       "        vertical-align: top;\n",
       "    }\n",
       "\n",
       "    .dataframe thead th {\n",
       "        text-align: right;\n",
       "    }\n",
       "</style>\n",
       "<table border=\"1\" class=\"dataframe\">\n",
       "  <thead>\n",
       "    <tr style=\"text-align: right;\">\n",
       "      <th></th>\n",
       "      <th>area_id</th>\n",
       "      <th>areatype_id</th>\n",
       "      <th>is_updated_area</th>\n",
       "      <th>is_actual_area</th>\n",
       "      <th>only_name_area</th>\n",
       "    </tr>\n",
       "  </thead>\n",
       "  <tbody>\n",
       "    <tr>\n",
       "      <th>0</th>\n",
       "      <td>105</td>\n",
       "      <td>2.0</td>\n",
       "      <td>True</td>\n",
       "      <td>False</td>\n",
       "      <td>ВИР-1</td>\n",
       "    </tr>\n",
       "    <tr>\n",
       "      <th>1</th>\n",
       "      <td>368</td>\n",
       "      <td>15.0</td>\n",
       "      <td>True</td>\n",
       "      <td>True</td>\n",
       "      <td>Ижорский завод</td>\n",
       "    </tr>\n",
       "  </tbody>\n",
       "</table>\n",
       "</div>"
      ],
      "text/plain": [
       "   area_id  areatype_id  is_updated_area  is_actual_area  only_name_area\n",
       "0      105          2.0             True           False           ВИР-1\n",
       "1      368         15.0             True            True  Ижорский завод"
      ]
     },
     "execution_count": 6,
     "metadata": {},
     "output_type": "execute_result"
    }
   ],
   "source": [
    "df_area.rename(columns = {\n",
    "    'id': 'area_id', 'type_id': 'areatype_id', 'is_updated': 'is_updated_area',\n",
    "    'is_actual': 'is_actual_area', 'only_name': 'only_name_area'\n",
    "}, inplace=True)\n",
    "df_area.head(2)"
   ]
  },
  {
   "cell_type": "code",
   "execution_count": 7,
   "metadata": {
    "execution": {
     "iopub.execute_input": "2023-08-27T04:42:24.302649Z",
     "iopub.status.busy": "2023-08-27T04:42:24.302321Z",
     "iopub.status.idle": "2023-08-27T04:42:24.315859Z",
     "shell.execute_reply": "2023-08-27T04:42:24.314497Z",
     "shell.execute_reply.started": "2023-08-27T04:42:24.302607Z"
    }
   },
   "outputs": [
    {
     "data": {
      "text/html": [
       "<div>\n",
       "<style scoped>\n",
       "    .dataframe tbody tr th:only-of-type {\n",
       "        vertical-align: middle;\n",
       "    }\n",
       "\n",
       "    .dataframe tbody tr th {\n",
       "        vertical-align: top;\n",
       "    }\n",
       "\n",
       "    .dataframe thead th {\n",
       "        text-align: right;\n",
       "    }\n",
       "</style>\n",
       "<table border=\"1\" class=\"dataframe\">\n",
       "  <thead>\n",
       "    <tr style=\"text-align: right;\">\n",
       "      <th></th>\n",
       "      <th>areatype_id</th>\n",
       "      <th>name_areatype</th>\n",
       "      <th>is_updated_areatype</th>\n",
       "      <th>is_actual_areatype</th>\n",
       "    </tr>\n",
       "  </thead>\n",
       "  <tbody>\n",
       "    <tr>\n",
       "      <th>0</th>\n",
       "      <td>27</td>\n",
       "      <td>территория предприятия</td>\n",
       "      <td>True</td>\n",
       "      <td>True</td>\n",
       "    </tr>\n",
       "    <tr>\n",
       "      <th>1</th>\n",
       "      <td>29</td>\n",
       "      <td>земли</td>\n",
       "      <td>True</td>\n",
       "      <td>True</td>\n",
       "    </tr>\n",
       "  </tbody>\n",
       "</table>\n",
       "</div>"
      ],
      "text/plain": [
       "   areatype_id           name_areatype  is_updated_areatype  \\\n",
       "0           27  территория предприятия                 True   \n",
       "1           29                   земли                 True   \n",
       "\n",
       "   is_actual_areatype  \n",
       "0                True  \n",
       "1                True  "
      ]
     },
     "execution_count": 7,
     "metadata": {},
     "output_type": "execute_result"
    }
   ],
   "source": [
    "df_areatype.rename(columns = {\n",
    "    'id': 'areatype_id', 'is_updated': 'is_updated_areatype', 'is_actual': 'is_actual_areatype', 'name': 'name_areatype'\n",
    "}, inplace=True)\n",
    "df_areatype.head(2)"
   ]
  },
  {
   "cell_type": "code",
   "execution_count": 8,
   "metadata": {
    "execution": {
     "iopub.execute_input": "2023-08-27T04:42:24.317834Z",
     "iopub.status.busy": "2023-08-27T04:42:24.317244Z",
     "iopub.status.idle": "2023-08-27T04:42:24.337800Z",
     "shell.execute_reply": "2023-08-27T04:42:24.336794Z",
     "shell.execute_reply.started": "2023-08-27T04:42:24.317801Z"
    }
   },
   "outputs": [
    {
     "data": {
      "text/html": [
       "<div>\n",
       "<style scoped>\n",
       "    .dataframe tbody tr th:only-of-type {\n",
       "        vertical-align: middle;\n",
       "    }\n",
       "\n",
       "    .dataframe tbody tr th {\n",
       "        vertical-align: top;\n",
       "    }\n",
       "\n",
       "    .dataframe thead th {\n",
       "        text-align: right;\n",
       "    }\n",
       "</style>\n",
       "<table border=\"1\" class=\"dataframe\">\n",
       "  <thead>\n",
       "    <tr style=\"text-align: right;\">\n",
       "      <th></th>\n",
       "      <th>target_id</th>\n",
       "      <th>prefix_id</th>\n",
       "      <th>district_id</th>\n",
       "      <th>house</th>\n",
       "      <th>corpus</th>\n",
       "      <th>liter</th>\n",
       "      <th>villa</th>\n",
       "      <th>parcel</th>\n",
       "      <th>full_address</th>\n",
       "      <th>is_updated</th>\n",
       "      <th>is_actual</th>\n",
       "      <th>type</th>\n",
       "      <th>municipality_id</th>\n",
       "      <th>short_address</th>\n",
       "      <th>post_prefix</th>\n",
       "      <th>build_number</th>\n",
       "    </tr>\n",
       "  </thead>\n",
       "  <tbody>\n",
       "    <tr>\n",
       "      <th>0</th>\n",
       "      <td>56343</td>\n",
       "      <td>11132</td>\n",
       "      <td>35</td>\n",
       "      <td>12</td>\n",
       "      <td>NaN</td>\n",
       "      <td>А</td>\n",
       "      <td>NaN</td>\n",
       "      <td>NaN</td>\n",
       "      <td>город Пушкин, Кедринская улица, дом 12</td>\n",
       "      <td>True</td>\n",
       "      <td>False</td>\n",
       "      <td>NaN</td>\n",
       "      <td>107.0</td>\n",
       "      <td>г.Пушкин, Кедринская ул., д. 12</td>\n",
       "      <td>NaN</td>\n",
       "      <td>NaN</td>\n",
       "    </tr>\n",
       "    <tr>\n",
       "      <th>1</th>\n",
       "      <td>595</td>\n",
       "      <td>6987</td>\n",
       "      <td>38</td>\n",
       "      <td>4Б</td>\n",
       "      <td>NaN</td>\n",
       "      <td>NaN</td>\n",
       "      <td>NaN</td>\n",
       "      <td>NaN</td>\n",
       "      <td>поселок Ушково, Пляжевая улица, дом 4Б</td>\n",
       "      <td>True</td>\n",
       "      <td>False</td>\n",
       "      <td>NaN</td>\n",
       "      <td>128.0</td>\n",
       "      <td>пос. Ушково, Пляжевая ул., д. 4Б</td>\n",
       "      <td>NaN</td>\n",
       "      <td>NaN</td>\n",
       "    </tr>\n",
       "  </tbody>\n",
       "</table>\n",
       "</div>"
      ],
      "text/plain": [
       "   target_id  prefix_id  district_id house corpus liter villa parcel  \\\n",
       "0      56343      11132           35    12    NaN     А   NaN    NaN   \n",
       "1        595       6987           38    4Б    NaN   NaN   NaN    NaN   \n",
       "\n",
       "                             full_address  is_updated  is_actual type  \\\n",
       "0  город Пушкин, Кедринская улица, дом 12        True      False  NaN   \n",
       "1  поселок Ушково, Пляжевая улица, дом 4Б        True      False  NaN   \n",
       "\n",
       "   municipality_id                     short_address post_prefix build_number  \n",
       "0            107.0   г.Пушкин, Кедринская ул., д. 12         NaN          NaN  \n",
       "1            128.0  пос. Ушково, Пляжевая ул., д. 4Б         NaN          NaN  "
      ]
     },
     "execution_count": 8,
     "metadata": {},
     "output_type": "execute_result"
    }
   ],
   "source": [
    "df_building.rename(columns = {'id': 'target_id'}, inplace=True)\n",
    "df_building.head(2)"
   ]
  },
  {
   "cell_type": "code",
   "execution_count": 9,
   "metadata": {
    "execution": {
     "iopub.execute_input": "2023-08-27T04:42:24.339749Z",
     "iopub.status.busy": "2023-08-27T04:42:24.339211Z",
     "iopub.status.idle": "2023-08-27T04:42:24.350969Z",
     "shell.execute_reply": "2023-08-27T04:42:24.349869Z",
     "shell.execute_reply.started": "2023-08-27T04:42:24.339717Z"
    }
   },
   "outputs": [
    {
     "data": {
      "text/html": [
       "<div>\n",
       "<style scoped>\n",
       "    .dataframe tbody tr th:only-of-type {\n",
       "        vertical-align: middle;\n",
       "    }\n",
       "\n",
       "    .dataframe tbody tr th {\n",
       "        vertical-align: top;\n",
       "    }\n",
       "\n",
       "    .dataframe thead th {\n",
       "        text-align: right;\n",
       "    }\n",
       "</style>\n",
       "<table border=\"1\" class=\"dataframe\">\n",
       "  <thead>\n",
       "    <tr style=\"text-align: right;\">\n",
       "      <th></th>\n",
       "      <th>district_id</th>\n",
       "      <th>name_district</th>\n",
       "      <th>is_actual_district</th>\n",
       "    </tr>\n",
       "  </thead>\n",
       "  <tbody>\n",
       "    <tr>\n",
       "      <th>0</th>\n",
       "      <td>1</td>\n",
       "      <td>Неизвестно</td>\n",
       "      <td>True</td>\n",
       "    </tr>\n",
       "    <tr>\n",
       "      <th>1</th>\n",
       "      <td>6</td>\n",
       "      <td>Василеостровский</td>\n",
       "      <td>True</td>\n",
       "    </tr>\n",
       "  </tbody>\n",
       "</table>\n",
       "</div>"
      ],
      "text/plain": [
       "   district_id     name_district  is_actual_district\n",
       "0            1        Неизвестно                True\n",
       "1            6  Василеостровский                True"
      ]
     },
     "execution_count": 9,
     "metadata": {},
     "output_type": "execute_result"
    }
   ],
   "source": [
    "df_district.rename(columns = {\n",
    "    'id': 'district_id', 'is_updated': 'is_updated_district', 'is_actual': 'is_actual_district', 'name': 'name_district'\n",
    "}, inplace=True)\n",
    "df_district.head(2)"
   ]
  },
  {
   "cell_type": "code",
   "execution_count": 10,
   "metadata": {
    "execution": {
     "iopub.execute_input": "2023-08-27T04:42:24.353049Z",
     "iopub.status.busy": "2023-08-27T04:42:24.352298Z",
     "iopub.status.idle": "2023-08-27T04:42:24.367594Z",
     "shell.execute_reply": "2023-08-27T04:42:24.366655Z",
     "shell.execute_reply.started": "2023-08-27T04:42:24.353017Z"
    }
   },
   "outputs": [
    {
     "data": {
      "text/html": [
       "<div>\n",
       "<style scoped>\n",
       "    .dataframe tbody tr th:only-of-type {\n",
       "        vertical-align: middle;\n",
       "    }\n",
       "\n",
       "    .dataframe tbody tr th {\n",
       "        vertical-align: top;\n",
       "    }\n",
       "\n",
       "    .dataframe thead th {\n",
       "        text-align: right;\n",
       "    }\n",
       "</style>\n",
       "<table border=\"1\" class=\"dataframe\">\n",
       "  <thead>\n",
       "    <tr style=\"text-align: right;\">\n",
       "      <th></th>\n",
       "      <th>geonim_id</th>\n",
       "      <th>geonimtype_id</th>\n",
       "      <th>is_updated_geonim</th>\n",
       "      <th>is_actual_geonim</th>\n",
       "      <th>only_name_geonim</th>\n",
       "    </tr>\n",
       "  </thead>\n",
       "  <tbody>\n",
       "    <tr>\n",
       "      <th>0</th>\n",
       "      <td>100038</td>\n",
       "      <td>19</td>\n",
       "      <td>True</td>\n",
       "      <td>True</td>\n",
       "      <td>ЗСД</td>\n",
       "    </tr>\n",
       "    <tr>\n",
       "      <th>1</th>\n",
       "      <td>502</td>\n",
       "      <td>2</td>\n",
       "      <td>True</td>\n",
       "      <td>True</td>\n",
       "      <td>3-я</td>\n",
       "    </tr>\n",
       "  </tbody>\n",
       "</table>\n",
       "</div>"
      ],
      "text/plain": [
       "   geonim_id  geonimtype_id  is_updated_geonim  is_actual_geonim  \\\n",
       "0     100038             19               True              True   \n",
       "1        502              2               True              True   \n",
       "\n",
       "  only_name_geonim  \n",
       "0              ЗСД  \n",
       "1              3-я  "
      ]
     },
     "execution_count": 10,
     "metadata": {},
     "output_type": "execute_result"
    }
   ],
   "source": [
    "df_geonim.rename(columns = {\n",
    "    'id': 'geonim_id', 'type_id': 'geonimtype_id', 'is_updated': 'is_updated_geonim', 'is_actual': 'is_actual_geonim', 'only_name': 'only_name_geonim'\n",
    "}, inplace=True)\n",
    "df_geonim.head(2)"
   ]
  },
  {
   "cell_type": "code",
   "execution_count": 11,
   "metadata": {
    "execution": {
     "iopub.execute_input": "2023-08-27T04:42:24.370959Z",
     "iopub.status.busy": "2023-08-27T04:42:24.368750Z",
     "iopub.status.idle": "2023-08-27T04:42:24.384651Z",
     "shell.execute_reply": "2023-08-27T04:42:24.383583Z",
     "shell.execute_reply.started": "2023-08-27T04:42:24.370848Z"
    }
   },
   "outputs": [
    {
     "data": {
      "text/html": [
       "<div>\n",
       "<style scoped>\n",
       "    .dataframe tbody tr th:only-of-type {\n",
       "        vertical-align: middle;\n",
       "    }\n",
       "\n",
       "    .dataframe tbody tr th {\n",
       "        vertical-align: top;\n",
       "    }\n",
       "\n",
       "    .dataframe thead th {\n",
       "        text-align: right;\n",
       "    }\n",
       "</style>\n",
       "<table border=\"1\" class=\"dataframe\">\n",
       "  <thead>\n",
       "    <tr style=\"text-align: right;\">\n",
       "      <th></th>\n",
       "      <th>geonimtype_id</th>\n",
       "      <th>name_geonimtype</th>\n",
       "      <th>is_updated_geonimtype</th>\n",
       "      <th>is_actual_geonimtype</th>\n",
       "    </tr>\n",
       "  </thead>\n",
       "  <tbody>\n",
       "    <tr>\n",
       "      <th>0</th>\n",
       "      <td>1</td>\n",
       "      <td>Неизвестно</td>\n",
       "      <td>True</td>\n",
       "      <td>True</td>\n",
       "    </tr>\n",
       "    <tr>\n",
       "      <th>1</th>\n",
       "      <td>2</td>\n",
       "      <td>аллея</td>\n",
       "      <td>True</td>\n",
       "      <td>True</td>\n",
       "    </tr>\n",
       "  </tbody>\n",
       "</table>\n",
       "</div>"
      ],
      "text/plain": [
       "   geonimtype_id name_geonimtype  is_updated_geonimtype  is_actual_geonimtype\n",
       "0              1      Неизвестно                   True                  True\n",
       "1              2           аллея                   True                  True"
      ]
     },
     "execution_count": 11,
     "metadata": {},
     "output_type": "execute_result"
    }
   ],
   "source": [
    "df_geonimtype.rename(columns = {\n",
    "    'id': 'geonimtype_id', 'is_updated': 'is_updated_geonimtype', 'is_actual': 'is_actual_geonimtype', 'name': 'name_geonimtype'\n",
    "}, inplace=True)\n",
    "df_geonimtype.head(2)"
   ]
  },
  {
   "cell_type": "code",
   "execution_count": 12,
   "metadata": {
    "execution": {
     "iopub.execute_input": "2023-08-27T04:42:24.387077Z",
     "iopub.status.busy": "2023-08-27T04:42:24.386673Z",
     "iopub.status.idle": "2023-08-27T04:42:24.404502Z",
     "shell.execute_reply": "2023-08-27T04:42:24.403280Z",
     "shell.execute_reply.started": "2023-08-27T04:42:24.386975Z"
    }
   },
   "outputs": [
    {
     "data": {
      "text/html": [
       "<div>\n",
       "<style scoped>\n",
       "    .dataframe tbody tr th:only-of-type {\n",
       "        vertical-align: middle;\n",
       "    }\n",
       "\n",
       "    .dataframe tbody tr th {\n",
       "        vertical-align: top;\n",
       "    }\n",
       "\n",
       "    .dataframe thead th {\n",
       "        text-align: right;\n",
       "    }\n",
       "</style>\n",
       "<table border=\"1\" class=\"dataframe\">\n",
       "  <thead>\n",
       "    <tr style=\"text-align: right;\">\n",
       "      <th></th>\n",
       "      <th>prefix_id</th>\n",
       "      <th>town_id</th>\n",
       "      <th>geonim_id</th>\n",
       "      <th>area_id</th>\n",
       "      <th>toponim_id</th>\n",
       "      <th>name</th>\n",
       "      <th>search_index_prefix</th>\n",
       "      <th>is_updated_prefix</th>\n",
       "      <th>is_actual_prefix</th>\n",
       "      <th>sub_rf_id</th>\n",
       "      <th>has_buildings_prefix</th>\n",
       "    </tr>\n",
       "  </thead>\n",
       "  <tbody>\n",
       "    <tr>\n",
       "      <th>0</th>\n",
       "      <td>2038</td>\n",
       "      <td>NaN</td>\n",
       "      <td>2522.0</td>\n",
       "      <td>NaN</td>\n",
       "      <td>NaN</td>\n",
       "      <td>улица Отважных</td>\n",
       "      <td>'отважн':4 'отважных':2 'улиц':3 'улица':1</td>\n",
       "      <td>True</td>\n",
       "      <td>False</td>\n",
       "      <td>2.0</td>\n",
       "      <td>False</td>\n",
       "    </tr>\n",
       "    <tr>\n",
       "      <th>1</th>\n",
       "      <td>3484</td>\n",
       "      <td>NaN</td>\n",
       "      <td>NaN</td>\n",
       "      <td>NaN</td>\n",
       "      <td>NaN</td>\n",
       "      <td>NaN</td>\n",
       "      <td>NaN</td>\n",
       "      <td>True</td>\n",
       "      <td>False</td>\n",
       "      <td>2.0</td>\n",
       "      <td>False</td>\n",
       "    </tr>\n",
       "  </tbody>\n",
       "</table>\n",
       "</div>"
      ],
      "text/plain": [
       "   prefix_id  town_id  geonim_id  area_id  toponim_id            name  \\\n",
       "0       2038      NaN     2522.0      NaN         NaN  улица Отважных   \n",
       "1       3484      NaN        NaN      NaN         NaN             NaN   \n",
       "\n",
       "                          search_index_prefix  is_updated_prefix  \\\n",
       "0  'отважн':4 'отважных':2 'улиц':3 'улица':1               True   \n",
       "1                                         NaN               True   \n",
       "\n",
       "   is_actual_prefix  sub_rf_id  has_buildings_prefix  \n",
       "0             False        2.0                 False  \n",
       "1             False        2.0                 False  "
      ]
     },
     "execution_count": 12,
     "metadata": {},
     "output_type": "execute_result"
    }
   ],
   "source": [
    "df_prefix.rename(columns = {\n",
    "    'id': 'prefix_id', 'is_updated': 'is_updated_prefix', 'is_actual': 'is_actual_prefix',\n",
    "    'has_buildings': 'has_buildings_prefix', 'search_index': 'search_index_prefix'\n",
    "}, inplace=True)\n",
    "df_prefix.head(2)"
   ]
  },
  {
   "cell_type": "code",
   "execution_count": 13,
   "metadata": {
    "execution": {
     "iopub.execute_input": "2023-08-27T04:42:24.412592Z",
     "iopub.status.busy": "2023-08-27T04:42:24.410662Z",
     "iopub.status.idle": "2023-08-27T04:42:24.424181Z",
     "shell.execute_reply": "2023-08-27T04:42:24.423418Z",
     "shell.execute_reply.started": "2023-08-27T04:42:24.412558Z"
    }
   },
   "outputs": [
    {
     "data": {
      "text/html": [
       "<div>\n",
       "<style scoped>\n",
       "    .dataframe tbody tr th:only-of-type {\n",
       "        vertical-align: middle;\n",
       "    }\n",
       "\n",
       "    .dataframe tbody tr th {\n",
       "        vertical-align: top;\n",
       "    }\n",
       "\n",
       "    .dataframe thead th {\n",
       "        text-align: right;\n",
       "    }\n",
       "</style>\n",
       "<table border=\"1\" class=\"dataframe\">\n",
       "  <thead>\n",
       "    <tr style=\"text-align: right;\">\n",
       "      <th></th>\n",
       "      <th>sub_rf_id</th>\n",
       "      <th>name_subrf</th>\n",
       "      <th>is_updated_subrf</th>\n",
       "      <th>is_actual_subrf</th>\n",
       "    </tr>\n",
       "  </thead>\n",
       "  <tbody>\n",
       "    <tr>\n",
       "      <th>0</th>\n",
       "      <td>7</td>\n",
       "      <td>город Павловск</td>\n",
       "      <td>True</td>\n",
       "      <td>False</td>\n",
       "    </tr>\n",
       "    <tr>\n",
       "      <th>1</th>\n",
       "      <td>8</td>\n",
       "      <td>город Петродворец</td>\n",
       "      <td>True</td>\n",
       "      <td>False</td>\n",
       "    </tr>\n",
       "  </tbody>\n",
       "</table>\n",
       "</div>"
      ],
      "text/plain": [
       "   sub_rf_id         name_subrf  is_updated_subrf  is_actual_subrf\n",
       "0          7     город Павловск              True            False\n",
       "1          8  город Петродворец              True            False"
      ]
     },
     "execution_count": 13,
     "metadata": {},
     "output_type": "execute_result"
    }
   ],
   "source": [
    "df_subrf.rename(columns = {\n",
    "    'id': 'sub_rf_id', 'is_updated': 'is_updated_subrf', 'is_actual': 'is_actual_subrf', 'name': 'name_subrf'\n",
    "}, inplace=True)\n",
    "df_subrf.head(2)"
   ]
  },
  {
   "cell_type": "code",
   "execution_count": 14,
   "metadata": {
    "execution": {
     "iopub.execute_input": "2023-08-27T04:42:24.425989Z",
     "iopub.status.busy": "2023-08-27T04:42:24.425267Z",
     "iopub.status.idle": "2023-08-27T04:42:24.440105Z",
     "shell.execute_reply": "2023-08-27T04:42:24.439405Z",
     "shell.execute_reply.started": "2023-08-27T04:42:24.425956Z"
    }
   },
   "outputs": [
    {
     "data": {
      "text/html": [
       "<div>\n",
       "<style scoped>\n",
       "    .dataframe tbody tr th:only-of-type {\n",
       "        vertical-align: middle;\n",
       "    }\n",
       "\n",
       "    .dataframe tbody tr th {\n",
       "        vertical-align: top;\n",
       "    }\n",
       "\n",
       "    .dataframe thead th {\n",
       "        text-align: right;\n",
       "    }\n",
       "</style>\n",
       "<table border=\"1\" class=\"dataframe\">\n",
       "  <thead>\n",
       "    <tr style=\"text-align: right;\">\n",
       "      <th></th>\n",
       "      <th>town_id</th>\n",
       "      <th>name_town</th>\n",
       "      <th>search_index_town</th>\n",
       "      <th>is_updated_town</th>\n",
       "      <th>is_actual_town</th>\n",
       "      <th>has_buildings_town</th>\n",
       "    </tr>\n",
       "  </thead>\n",
       "  <tbody>\n",
       "    <tr>\n",
       "      <th>0</th>\n",
       "      <td>7531</td>\n",
       "      <td>муниципальный округ Пискаревка</td>\n",
       "      <td>'муниципальн':4 'муниципальный':1 'округ':2,5 ...</td>\n",
       "      <td>True</td>\n",
       "      <td>True</td>\n",
       "      <td>False</td>\n",
       "    </tr>\n",
       "    <tr>\n",
       "      <th>1</th>\n",
       "      <td>1</td>\n",
       "      <td>Неизвестно</td>\n",
       "      <td>'неизвестн':2 'неизвестно':1</td>\n",
       "      <td>True</td>\n",
       "      <td>True</td>\n",
       "      <td>False</td>\n",
       "    </tr>\n",
       "  </tbody>\n",
       "</table>\n",
       "</div>"
      ],
      "text/plain": [
       "   town_id                       name_town  \\\n",
       "0     7531  муниципальный округ Пискаревка   \n",
       "1        1                      Неизвестно   \n",
       "\n",
       "                                   search_index_town  is_updated_town  \\\n",
       "0  'муниципальн':4 'муниципальный':1 'округ':2,5 ...             True   \n",
       "1                       'неизвестн':2 'неизвестно':1             True   \n",
       "\n",
       "   is_actual_town  has_buildings_town  \n",
       "0            True               False  \n",
       "1            True               False  "
      ]
     },
     "execution_count": 14,
     "metadata": {},
     "output_type": "execute_result"
    }
   ],
   "source": [
    "df_town.rename(columns = {\n",
    "    'id': 'town_id', 'is_updated': 'is_updated_town', 'is_actual': 'is_actual_town',\n",
    "    'has_buildings': 'has_buildings_town', 'name': 'name_town', 'search_index': 'search_index_town'\n",
    "}, inplace=True)\n",
    "df_town.head(2)"
   ]
  },
  {
   "cell_type": "markdown",
   "metadata": {},
   "source": [
    "# Преобразование единого датасета"
   ]
  },
  {
   "cell_type": "code",
   "execution_count": 15,
   "metadata": {
    "execution": {
     "iopub.execute_input": "2023-08-27T04:42:24.442229Z",
     "iopub.status.busy": "2023-08-27T04:42:24.441171Z",
     "iopub.status.idle": "2023-08-27T04:42:24.915292Z",
     "shell.execute_reply": "2023-08-27T04:42:24.914329Z",
     "shell.execute_reply.started": "2023-08-27T04:42:24.442197Z"
    }
   },
   "outputs": [
    {
     "data": {
      "text/html": [
       "<div>\n",
       "<style scoped>\n",
       "    .dataframe tbody tr th:only-of-type {\n",
       "        vertical-align: middle;\n",
       "    }\n",
       "\n",
       "    .dataframe tbody tr th {\n",
       "        vertical-align: top;\n",
       "    }\n",
       "\n",
       "    .dataframe thead th {\n",
       "        text-align: right;\n",
       "    }\n",
       "</style>\n",
       "<table border=\"1\" class=\"dataframe\">\n",
       "  <thead>\n",
       "    <tr style=\"text-align: right;\">\n",
       "      <th></th>\n",
       "      <th>target_id</th>\n",
       "      <th>prefix_id</th>\n",
       "      <th>district_id</th>\n",
       "      <th>house</th>\n",
       "      <th>corpus</th>\n",
       "      <th>liter</th>\n",
       "      <th>villa</th>\n",
       "      <th>parcel</th>\n",
       "      <th>full_address</th>\n",
       "      <th>is_updated</th>\n",
       "      <th>...</th>\n",
       "      <th>is_actual_geonimtype</th>\n",
       "      <th>areatype_id</th>\n",
       "      <th>is_updated_area</th>\n",
       "      <th>is_actual_area</th>\n",
       "      <th>only_name_area</th>\n",
       "      <th>name_areatype</th>\n",
       "      <th>is_updated_areatype</th>\n",
       "      <th>is_actual_areatype</th>\n",
       "      <th>name_district</th>\n",
       "      <th>is_actual_district</th>\n",
       "    </tr>\n",
       "  </thead>\n",
       "  <tbody>\n",
       "    <tr>\n",
       "      <th>0</th>\n",
       "      <td>56343</td>\n",
       "      <td>11132</td>\n",
       "      <td>35</td>\n",
       "      <td>12</td>\n",
       "      <td>NaN</td>\n",
       "      <td>А</td>\n",
       "      <td>NaN</td>\n",
       "      <td>NaN</td>\n",
       "      <td>город Пушкин, Кедринская улица, дом 12</td>\n",
       "      <td>True</td>\n",
       "      <td>...</td>\n",
       "      <td>NaN</td>\n",
       "      <td>NaN</td>\n",
       "      <td>NaN</td>\n",
       "      <td>NaN</td>\n",
       "      <td>NaN</td>\n",
       "      <td>NaN</td>\n",
       "      <td>NaN</td>\n",
       "      <td>NaN</td>\n",
       "      <td>Пушкинский</td>\n",
       "      <td>True</td>\n",
       "    </tr>\n",
       "    <tr>\n",
       "      <th>1</th>\n",
       "      <td>595</td>\n",
       "      <td>6987</td>\n",
       "      <td>38</td>\n",
       "      <td>4Б</td>\n",
       "      <td>NaN</td>\n",
       "      <td>NaN</td>\n",
       "      <td>NaN</td>\n",
       "      <td>NaN</td>\n",
       "      <td>поселок Ушково, Пляжевая улица, дом 4Б</td>\n",
       "      <td>True</td>\n",
       "      <td>...</td>\n",
       "      <td>NaN</td>\n",
       "      <td>NaN</td>\n",
       "      <td>NaN</td>\n",
       "      <td>NaN</td>\n",
       "      <td>NaN</td>\n",
       "      <td>NaN</td>\n",
       "      <td>NaN</td>\n",
       "      <td>NaN</td>\n",
       "      <td>Курортный</td>\n",
       "      <td>True</td>\n",
       "    </tr>\n",
       "  </tbody>\n",
       "</table>\n",
       "<p>2 rows × 50 columns</p>\n",
       "</div>"
      ],
      "text/plain": [
       "   target_id  prefix_id  district_id house corpus liter villa parcel  \\\n",
       "0      56343      11132           35    12    NaN     А   NaN    NaN   \n",
       "1        595       6987           38    4Б    NaN   NaN   NaN    NaN   \n",
       "\n",
       "                             full_address  is_updated  ...  \\\n",
       "0  город Пушкин, Кедринская улица, дом 12        True  ...   \n",
       "1  поселок Ушково, Пляжевая улица, дом 4Б        True  ...   \n",
       "\n",
       "   is_actual_geonimtype areatype_id  is_updated_area is_actual_area  \\\n",
       "0                   NaN         NaN              NaN            NaN   \n",
       "1                   NaN         NaN              NaN            NaN   \n",
       "\n",
       "  only_name_area name_areatype  is_updated_areatype  is_actual_areatype  \\\n",
       "0            NaN           NaN                  NaN                 NaN   \n",
       "1            NaN           NaN                  NaN                 NaN   \n",
       "\n",
       "   name_district  is_actual_district  \n",
       "0     Пушкинский                True  \n",
       "1      Курортный                True  \n",
       "\n",
       "[2 rows x 50 columns]"
      ]
     },
     "execution_count": 15,
     "metadata": {},
     "output_type": "execute_result"
    }
   ],
   "source": [
    "df_area = df_area.merge(df_areatype, on='areatype_id')\n",
    "\n",
    "df_geonim = df_geonim.merge(df_geonimtype, on='geonimtype_id')\n",
    "\n",
    "df_prefix = df_prefix.merge(df_subrf, on='sub_rf_id')\n",
    "df_prefix = df_prefix.merge(df_town, on='town_id')\n",
    "df_prefix = df_prefix.merge(df_geonim, on='geonim_id')\n",
    "df_prefix = df_prefix.merge(df_area, on='area_id')\n",
    "\n",
    "df_building = df_building.merge(df_prefix, on='prefix_id', how = 'left')\n",
    "df_building = df_building.merge(df_district, on='district_id', how = 'left')\n",
    "\n",
    "df_building.head(2)"
   ]
  },
  {
   "cell_type": "markdown",
   "metadata": {},
   "source": [
    "Делаю больше данных с адресами"
   ]
  },
  {
   "cell_type": "code",
   "execution_count": 16,
   "metadata": {
    "execution": {
     "iopub.execute_input": "2023-08-27T04:42:24.917307Z",
     "iopub.status.busy": "2023-08-27T04:42:24.916887Z",
     "iopub.status.idle": "2023-08-27T04:42:26.476402Z",
     "shell.execute_reply": "2023-08-27T04:42:26.475299Z",
     "shell.execute_reply.started": "2023-08-27T04:42:24.917274Z"
    }
   },
   "outputs": [
    {
     "data": {
      "text/plain": [
       "(297599, 53)"
      ]
     },
     "execution_count": 16,
     "metadata": {},
     "output_type": "execute_result"
    }
   ],
   "source": [
    "df_building = df_building.merge(df, on='target_id', how = 'left')\n",
    "df_building.iloc[np.arange(len(df_building)).repeat(4)]\n",
    "df_building['my_address'] = np.nan\n",
    "df_building.shape"
   ]
  },
  {
   "cell_type": "code",
   "execution_count": 17,
   "metadata": {
    "execution": {
     "iopub.execute_input": "2023-08-27T04:42:26.478341Z",
     "iopub.status.busy": "2023-08-27T04:42:26.477908Z",
     "iopub.status.idle": "2023-08-27T04:43:05.994386Z",
     "shell.execute_reply": "2023-08-27T04:43:05.993399Z",
     "shell.execute_reply.started": "2023-08-27T04:42:26.478308Z"
    }
   },
   "outputs": [],
   "source": [
    "lst = ['full_address', 'short_address', 'address', 'target_address']\n",
    "idx_lst = 0\n",
    "\n",
    "for idx, row in df_building.iterrows():\n",
    "\n",
    "    df_building.loc[idx, 'my_address'] = row[lst[idx_lst]]\n",
    "    \n",
    "    idx_lst += 1\n",
    "    if idx_lst > 3:\n",
    "        idx_lst = 0"
   ]
  },
  {
   "cell_type": "code",
   "execution_count": 18,
   "metadata": {
    "execution": {
     "iopub.execute_input": "2023-08-27T04:43:05.996116Z",
     "iopub.status.busy": "2023-08-27T04:43:05.995694Z",
     "iopub.status.idle": "2023-08-27T04:43:06.004497Z",
     "shell.execute_reply": "2023-08-27T04:43:06.003425Z",
     "shell.execute_reply.started": "2023-08-27T04:43:05.996084Z"
    }
   },
   "outputs": [
    {
     "data": {
      "text/plain": [
       "(297599, 53)"
      ]
     },
     "execution_count": 18,
     "metadata": {},
     "output_type": "execute_result"
    }
   ],
   "source": [
    "df_building.shape"
   ]
  },
  {
   "cell_type": "code",
   "execution_count": 19,
   "metadata": {
    "execution": {
     "iopub.execute_input": "2023-08-27T04:43:06.006741Z",
     "iopub.status.busy": "2023-08-27T04:43:06.005743Z",
     "iopub.status.idle": "2023-08-27T04:43:06.878035Z",
     "shell.execute_reply": "2023-08-27T04:43:06.876915Z",
     "shell.execute_reply.started": "2023-08-27T04:43:06.006704Z"
    }
   },
   "outputs": [
    {
     "name": "stdout",
     "output_type": "stream",
     "text": [
      "(235916, 49)\n"
     ]
    }
   ],
   "source": [
    "# Пропуски в адресах\n",
    "df_building.my_address = df_building.my_address.replace(to_replace='None', value=np.nan)\n",
    "\n",
    "df_building = df_building.dropna(subset='my_address')\n",
    "\n",
    "# Удаляю ненужные адреса\n",
    "df_building = df_building.drop(['full_address', 'short_address', 'address', 'target_address'], axis=1)\n",
    "\n",
    "df_building.rename(columns = {'my_address': 'target_address'}, inplace=True)\n",
    "\n",
    "df_building.name_subrf = 'Санкт-Петербург'\n",
    "\n",
    "print(df_building.shape)"
   ]
  },
  {
   "cell_type": "code",
   "execution_count": 20,
   "metadata": {
    "execution": {
     "iopub.execute_input": "2023-08-27T04:43:06.880120Z",
     "iopub.status.busy": "2023-08-27T04:43:06.879762Z",
     "iopub.status.idle": "2023-08-27T04:43:06.901810Z",
     "shell.execute_reply": "2023-08-27T04:43:06.900687Z",
     "shell.execute_reply.started": "2023-08-27T04:43:06.880086Z"
    }
   },
   "outputs": [
    {
     "data": {
      "text/html": [
       "<div>\n",
       "<style scoped>\n",
       "    .dataframe tbody tr th:only-of-type {\n",
       "        vertical-align: middle;\n",
       "    }\n",
       "\n",
       "    .dataframe tbody tr th {\n",
       "        vertical-align: top;\n",
       "    }\n",
       "\n",
       "    .dataframe thead th {\n",
       "        text-align: right;\n",
       "    }\n",
       "</style>\n",
       "<table border=\"1\" class=\"dataframe\">\n",
       "  <thead>\n",
       "    <tr style=\"text-align: right;\">\n",
       "      <th></th>\n",
       "      <th>target_id</th>\n",
       "      <th>prefix_id</th>\n",
       "      <th>district_id</th>\n",
       "      <th>house</th>\n",
       "      <th>corpus</th>\n",
       "      <th>liter</th>\n",
       "      <th>villa</th>\n",
       "      <th>parcel</th>\n",
       "      <th>is_updated</th>\n",
       "      <th>is_actual</th>\n",
       "      <th>...</th>\n",
       "      <th>areatype_id</th>\n",
       "      <th>is_updated_area</th>\n",
       "      <th>is_actual_area</th>\n",
       "      <th>only_name_area</th>\n",
       "      <th>name_areatype</th>\n",
       "      <th>is_updated_areatype</th>\n",
       "      <th>is_actual_areatype</th>\n",
       "      <th>name_district</th>\n",
       "      <th>is_actual_district</th>\n",
       "      <th>target_address</th>\n",
       "    </tr>\n",
       "  </thead>\n",
       "  <tbody>\n",
       "    <tr>\n",
       "      <th>0</th>\n",
       "      <td>56343</td>\n",
       "      <td>11132</td>\n",
       "      <td>35</td>\n",
       "      <td>12</td>\n",
       "      <td>NaN</td>\n",
       "      <td>А</td>\n",
       "      <td>NaN</td>\n",
       "      <td>NaN</td>\n",
       "      <td>True</td>\n",
       "      <td>False</td>\n",
       "      <td>...</td>\n",
       "      <td>NaN</td>\n",
       "      <td>NaN</td>\n",
       "      <td>NaN</td>\n",
       "      <td>NaN</td>\n",
       "      <td>NaN</td>\n",
       "      <td>NaN</td>\n",
       "      <td>NaN</td>\n",
       "      <td>Пушкинский</td>\n",
       "      <td>True</td>\n",
       "      <td>город Пушкин, Кедринская улица, дом 12</td>\n",
       "    </tr>\n",
       "    <tr>\n",
       "      <th>1</th>\n",
       "      <td>595</td>\n",
       "      <td>6987</td>\n",
       "      <td>38</td>\n",
       "      <td>4Б</td>\n",
       "      <td>NaN</td>\n",
       "      <td>NaN</td>\n",
       "      <td>NaN</td>\n",
       "      <td>NaN</td>\n",
       "      <td>True</td>\n",
       "      <td>False</td>\n",
       "      <td>...</td>\n",
       "      <td>NaN</td>\n",
       "      <td>NaN</td>\n",
       "      <td>NaN</td>\n",
       "      <td>NaN</td>\n",
       "      <td>NaN</td>\n",
       "      <td>NaN</td>\n",
       "      <td>NaN</td>\n",
       "      <td>Курортный</td>\n",
       "      <td>True</td>\n",
       "      <td>пос. Ушково, Пляжевая ул., д. 4Б</td>\n",
       "    </tr>\n",
       "  </tbody>\n",
       "</table>\n",
       "<p>2 rows × 49 columns</p>\n",
       "</div>"
      ],
      "text/plain": [
       "   target_id  prefix_id  district_id house corpus liter villa parcel  \\\n",
       "0      56343      11132           35    12    NaN     А   NaN    NaN   \n",
       "1        595       6987           38    4Б    NaN   NaN   NaN    NaN   \n",
       "\n",
       "   is_updated  is_actual  ... areatype_id  is_updated_area is_actual_area  \\\n",
       "0        True      False  ...         NaN              NaN            NaN   \n",
       "1        True      False  ...         NaN              NaN            NaN   \n",
       "\n",
       "  only_name_area  name_areatype  is_updated_areatype  is_actual_areatype  \\\n",
       "0            NaN            NaN                  NaN                 NaN   \n",
       "1            NaN            NaN                  NaN                 NaN   \n",
       "\n",
       "   name_district is_actual_district                          target_address  \n",
       "0     Пушкинский               True  город Пушкин, Кедринская улица, дом 12  \n",
       "1      Курортный               True        пос. Ушково, Пляжевая ул., д. 4Б  \n",
       "\n",
       "[2 rows x 49 columns]"
      ]
     },
     "execution_count": 20,
     "metadata": {},
     "output_type": "execute_result"
    }
   ],
   "source": [
    "df_building.head(2)"
   ]
  },
  {
   "cell_type": "markdown",
   "metadata": {},
   "source": [
    "# Анализ данных"
   ]
  },
  {
   "cell_type": "markdown",
   "metadata": {},
   "source": [
    "Gропусков в данных"
   ]
  },
  {
   "cell_type": "code",
   "execution_count": null,
   "metadata": {
    "execution": {
     "iopub.execute_input": "2023-08-27T04:43:06.904339Z",
     "iopub.status.busy": "2023-08-27T04:43:06.903279Z",
     "iopub.status.idle": "2023-08-27T04:43:08.825311Z",
     "shell.execute_reply": "2023-08-27T04:43:08.824320Z",
     "shell.execute_reply.started": "2023-08-27T04:43:06.904312Z"
    }
   },
   "outputs": [],
   "source": [
    "df_building.isna().sum()"
   ]
  },
  {
   "cell_type": "markdown",
   "metadata": {},
   "source": [
    "Данные о столбцах"
   ]
  },
  {
   "cell_type": "code",
   "execution_count": null,
   "metadata": {
    "execution": {
     "iopub.execute_input": "2023-08-27T04:43:08.827081Z",
     "iopub.status.busy": "2023-08-27T04:43:08.826747Z",
     "iopub.status.idle": "2023-08-27T04:43:11.099906Z",
     "shell.execute_reply": "2023-08-27T04:43:11.099037Z",
     "shell.execute_reply.started": "2023-08-27T04:43:08.827048Z"
    }
   },
   "outputs": [],
   "source": [
    "df_building.info()"
   ]
  },
  {
   "cell_type": "code",
   "execution_count": null,
   "metadata": {
    "execution": {
     "iopub.execute_input": "2023-08-27T04:43:11.106602Z",
     "iopub.status.busy": "2023-08-27T04:43:11.104005Z",
     "iopub.status.idle": "2023-08-27T04:43:12.141147Z",
     "shell.execute_reply": "2023-08-27T04:43:12.140238Z",
     "shell.execute_reply.started": "2023-08-27T04:43:11.106567Z"
    }
   },
   "outputs": [],
   "source": [
    "df_building.nunique()"
   ]
  },
  {
   "cell_type": "markdown",
   "metadata": {},
   "source": [
    "# Генерация новых данных из доп. файлов"
   ]
  },
  {
   "cell_type": "code",
   "execution_count": null,
   "metadata": {
    "execution": {
     "iopub.execute_input": "2023-08-27T04:43:12.142982Z",
     "iopub.status.busy": "2023-08-27T04:43:12.142598Z",
     "iopub.status.idle": "2023-08-27T04:43:12.148993Z",
     "shell.execute_reply": "2023-08-27T04:43:12.147700Z",
     "shell.execute_reply.started": "2023-08-27T04:43:12.142949Z"
    }
   },
   "outputs": [],
   "source": [
    "# from random import shuffle\n",
    "# import math\n",
    "\n",
    "\n",
    "# COUNT_SHUFFLE = 0\n",
    "\n",
    "# lst_idx = []\n",
    "# lst_address = []\n",
    "\n",
    "# for idx, row in df_building.iterrows():\n",
    "    \n",
    "#     lst_string = []\n",
    "    \n",
    "#     for col in ['post_prefix', 'name_subrf', 'name', 'name_district', 'only_name_geonim', 'house', 'corpus', 'liter']:\n",
    "#         tmp = row[col]\n",
    "#         if tmp and isinstance(tmp, str):\n",
    "#             lst_string.append(tmp)\n",
    "    \n",
    "#     good_string = ' '.join(lst_string)\n",
    "#     lst_address.append(good_string)\n",
    "#     lst_idx.append(row['target_id'])\n",
    "\n",
    "    \n",
    "#     for i in range(COUNT_SHUFFLE):\n",
    "#         np.random.shuffle(lst_string)\n",
    "        \n",
    "#         random_string = ' '.join(lst_string)\n",
    "#         lst_address.append(random_string)\n",
    "#         lst_idx.append(row['target_id'])\n",
    "\n",
    "# len(lst_address)"
   ]
  },
  {
   "cell_type": "code",
   "execution_count": null,
   "metadata": {
    "execution": {
     "iopub.execute_input": "2023-08-27T04:43:12.151033Z",
     "iopub.status.busy": "2023-08-27T04:43:12.150640Z",
     "iopub.status.idle": "2023-08-27T04:43:12.160381Z",
     "shell.execute_reply": "2023-08-27T04:43:12.159203Z",
     "shell.execute_reply.started": "2023-08-27T04:43:12.151001Z"
    }
   },
   "outputs": [],
   "source": [
    "# lst_address[205]"
   ]
  },
  {
   "cell_type": "markdown",
   "metadata": {},
   "source": [
    "# Предобработка данных"
   ]
  },
  {
   "cell_type": "code",
   "execution_count": 21,
   "metadata": {
    "execution": {
     "iopub.execute_input": "2023-08-27T04:43:12.162333Z",
     "iopub.status.busy": "2023-08-27T04:43:12.161955Z",
     "iopub.status.idle": "2023-08-27T04:43:12.189280Z",
     "shell.execute_reply": "2023-08-27T04:43:12.188228Z",
     "shell.execute_reply.started": "2023-08-27T04:43:12.162300Z"
    }
   },
   "outputs": [
    {
     "data": {
      "text/html": [
       "<div>\n",
       "<style scoped>\n",
       "    .dataframe tbody tr th:only-of-type {\n",
       "        vertical-align: middle;\n",
       "    }\n",
       "\n",
       "    .dataframe tbody tr th {\n",
       "        vertical-align: top;\n",
       "    }\n",
       "\n",
       "    .dataframe thead th {\n",
       "        text-align: right;\n",
       "    }\n",
       "</style>\n",
       "<table border=\"1\" class=\"dataframe\">\n",
       "  <thead>\n",
       "    <tr style=\"text-align: right;\">\n",
       "      <th></th>\n",
       "      <th>target_id</th>\n",
       "      <th>prefix_id</th>\n",
       "      <th>district_id</th>\n",
       "      <th>house</th>\n",
       "      <th>corpus</th>\n",
       "      <th>liter</th>\n",
       "      <th>villa</th>\n",
       "      <th>parcel</th>\n",
       "      <th>is_updated</th>\n",
       "      <th>is_actual</th>\n",
       "      <th>...</th>\n",
       "      <th>areatype_id</th>\n",
       "      <th>is_updated_area</th>\n",
       "      <th>is_actual_area</th>\n",
       "      <th>only_name_area</th>\n",
       "      <th>name_areatype</th>\n",
       "      <th>is_updated_areatype</th>\n",
       "      <th>is_actual_areatype</th>\n",
       "      <th>name_district</th>\n",
       "      <th>is_actual_district</th>\n",
       "      <th>target_address</th>\n",
       "    </tr>\n",
       "  </thead>\n",
       "  <tbody>\n",
       "    <tr>\n",
       "      <th>0</th>\n",
       "      <td>56343</td>\n",
       "      <td>11132</td>\n",
       "      <td>35</td>\n",
       "      <td>12</td>\n",
       "      <td>NaN</td>\n",
       "      <td>А</td>\n",
       "      <td>NaN</td>\n",
       "      <td>NaN</td>\n",
       "      <td>True</td>\n",
       "      <td>False</td>\n",
       "      <td>...</td>\n",
       "      <td>NaN</td>\n",
       "      <td>NaN</td>\n",
       "      <td>NaN</td>\n",
       "      <td>NaN</td>\n",
       "      <td>NaN</td>\n",
       "      <td>NaN</td>\n",
       "      <td>NaN</td>\n",
       "      <td>Пушкинский</td>\n",
       "      <td>True</td>\n",
       "      <td>город Пушкин, Кедринская улица, дом 12</td>\n",
       "    </tr>\n",
       "    <tr>\n",
       "      <th>1</th>\n",
       "      <td>595</td>\n",
       "      <td>6987</td>\n",
       "      <td>38</td>\n",
       "      <td>4Б</td>\n",
       "      <td>NaN</td>\n",
       "      <td>NaN</td>\n",
       "      <td>NaN</td>\n",
       "      <td>NaN</td>\n",
       "      <td>True</td>\n",
       "      <td>False</td>\n",
       "      <td>...</td>\n",
       "      <td>NaN</td>\n",
       "      <td>NaN</td>\n",
       "      <td>NaN</td>\n",
       "      <td>NaN</td>\n",
       "      <td>NaN</td>\n",
       "      <td>NaN</td>\n",
       "      <td>NaN</td>\n",
       "      <td>Курортный</td>\n",
       "      <td>True</td>\n",
       "      <td>пос. Ушково, Пляжевая ул., д. 4Б</td>\n",
       "    </tr>\n",
       "    <tr>\n",
       "      <th>4</th>\n",
       "      <td>185368</td>\n",
       "      <td>4224</td>\n",
       "      <td>38</td>\n",
       "      <td>28</td>\n",
       "      <td>NaN</td>\n",
       "      <td>Б</td>\n",
       "      <td>NaN</td>\n",
       "      <td>NaN</td>\n",
       "      <td>True</td>\n",
       "      <td>False</td>\n",
       "      <td>...</td>\n",
       "      <td>NaN</td>\n",
       "      <td>NaN</td>\n",
       "      <td>NaN</td>\n",
       "      <td>NaN</td>\n",
       "      <td>NaN</td>\n",
       "      <td>NaN</td>\n",
       "      <td>NaN</td>\n",
       "      <td>Курортный</td>\n",
       "      <td>True</td>\n",
       "      <td>поселок Песочный, Речная улица, дом 28, литера Б</td>\n",
       "    </tr>\n",
       "  </tbody>\n",
       "</table>\n",
       "<p>3 rows × 49 columns</p>\n",
       "</div>"
      ],
      "text/plain": [
       "   target_id  prefix_id  district_id house corpus liter villa parcel  \\\n",
       "0      56343      11132           35    12    NaN     А   NaN    NaN   \n",
       "1        595       6987           38    4Б    NaN   NaN   NaN    NaN   \n",
       "4     185368       4224           38    28    NaN     Б   NaN    NaN   \n",
       "\n",
       "   is_updated  is_actual  ... areatype_id  is_updated_area is_actual_area  \\\n",
       "0        True      False  ...         NaN              NaN            NaN   \n",
       "1        True      False  ...         NaN              NaN            NaN   \n",
       "4        True      False  ...         NaN              NaN            NaN   \n",
       "\n",
       "  only_name_area  name_areatype  is_updated_areatype  is_actual_areatype  \\\n",
       "0            NaN            NaN                  NaN                 NaN   \n",
       "1            NaN            NaN                  NaN                 NaN   \n",
       "4            NaN            NaN                  NaN                 NaN   \n",
       "\n",
       "   name_district is_actual_district  \\\n",
       "0     Пушкинский               True   \n",
       "1      Курортный               True   \n",
       "4      Курортный               True   \n",
       "\n",
       "                                     target_address  \n",
       "0            город Пушкин, Кедринская улица, дом 12  \n",
       "1                  пос. Ушково, Пляжевая ул., д. 4Б  \n",
       "4  поселок Песочный, Речная улица, дом 28, литера Б  \n",
       "\n",
       "[3 rows x 49 columns]"
      ]
     },
     "execution_count": 21,
     "metadata": {},
     "output_type": "execute_result"
    }
   ],
   "source": [
    "df_building.head(3)"
   ]
  },
  {
   "cell_type": "markdown",
   "metadata": {},
   "source": [
    "Удаление столбцов с огромным количеством пропусков."
   ]
  },
  {
   "cell_type": "code",
   "execution_count": 22,
   "metadata": {
    "execution": {
     "iopub.execute_input": "2023-08-27T04:43:12.191165Z",
     "iopub.status.busy": "2023-08-27T04:43:12.190731Z",
     "iopub.status.idle": "2023-08-27T04:43:12.285404Z",
     "shell.execute_reply": "2023-08-27T04:43:12.284343Z",
     "shell.execute_reply.started": "2023-08-27T04:43:12.191132Z"
    }
   },
   "outputs": [],
   "source": [
    "df_building = df_building.drop(['villa', 'parcel', 'toponim_id'], axis=1)"
   ]
  },
  {
   "cell_type": "markdown",
   "metadata": {},
   "source": [
    "Пропуски заменяю на -1"
   ]
  },
  {
   "cell_type": "code",
   "execution_count": 23,
   "metadata": {
    "execution": {
     "iopub.execute_input": "2023-08-27T04:43:12.287310Z",
     "iopub.status.busy": "2023-08-27T04:43:12.286969Z",
     "iopub.status.idle": "2023-08-27T04:43:15.785490Z",
     "shell.execute_reply": "2023-08-27T04:43:15.784499Z",
     "shell.execute_reply.started": "2023-08-27T04:43:12.287276Z"
    }
   },
   "outputs": [],
   "source": [
    "df_building = df_building.fillna(-1)\n",
    "\n",
    "df_building.search_index_town = df_building.search_index_town.replace(-1, '-1')\n",
    "df_building.search_index_prefix = df_building.search_index_prefix.replace(-1, '-1')"
   ]
  },
  {
   "cell_type": "markdown",
   "metadata": {},
   "source": [
    "Прихожу к правильному типу столбцы"
   ]
  },
  {
   "cell_type": "code",
   "execution_count": 24,
   "metadata": {
    "execution": {
     "iopub.execute_input": "2023-08-27T04:43:15.787317Z",
     "iopub.status.busy": "2023-08-27T04:43:15.786885Z",
     "iopub.status.idle": "2023-08-27T04:43:16.062942Z",
     "shell.execute_reply": "2023-08-27T04:43:16.061942Z",
     "shell.execute_reply.started": "2023-08-27T04:43:15.787283Z"
    }
   },
   "outputs": [],
   "source": [
    "cols_int = ['municipality_id', 'town_id', 'geonim_id', 'area_id', 'sub_rf_id', 'geonimtype_id', 'areatype_id']\n",
    "df_building[cols_int] = df_building[cols_int].astype('int64')\n",
    "\n",
    "# cols_bool = ['is_actual_areatype', 'is_updated_areatype', 'is_actual_area', 'is_updated_area',\n",
    "#              'is_actual_geonimtype', 'is_updated_geonimtype', 'is_actual_town', 'is_updated_town']\n",
    "# df_building[] = df_building[].astype('int64')"
   ]
  },
  {
   "cell_type": "markdown",
   "metadata": {},
   "source": [
    "LabelEncoder для столбцов search_..."
   ]
  },
  {
   "cell_type": "code",
   "execution_count": 25,
   "metadata": {
    "execution": {
     "iopub.execute_input": "2023-08-27T04:43:16.064784Z",
     "iopub.status.busy": "2023-08-27T04:43:16.064433Z",
     "iopub.status.idle": "2023-08-27T04:43:16.848691Z",
     "shell.execute_reply": "2023-08-27T04:43:16.847692Z",
     "shell.execute_reply.started": "2023-08-27T04:43:16.064752Z"
    }
   },
   "outputs": [],
   "source": [
    "from sklearn.preprocessing import LabelEncoder\n",
    "\n",
    "cols_le = ['search_index_town', 'search_index_prefix']\n",
    "le = LabelEncoder()\n",
    "for i in cols_le:\n",
    "    le.fit(df_building[i])\n",
    "    df_building[i] = le.transform(df_building[i])"
   ]
  },
  {
   "cell_type": "code",
   "execution_count": 26,
   "metadata": {
    "execution": {
     "iopub.execute_input": "2023-08-27T04:43:16.850652Z",
     "iopub.status.busy": "2023-08-27T04:43:16.850202Z",
     "iopub.status.idle": "2023-08-27T04:43:16.855572Z",
     "shell.execute_reply": "2023-08-27T04:43:16.854552Z",
     "shell.execute_reply.started": "2023-08-27T04:43:16.850618Z"
    }
   },
   "outputs": [],
   "source": [
    "# TODO: временное удаление этого столбца\n",
    "# df_building = df_building.drop(['short_address'], axis=1)"
   ]
  },
  {
   "cell_type": "code",
   "execution_count": 27,
   "metadata": {
    "execution": {
     "iopub.execute_input": "2023-08-27T04:43:16.857855Z",
     "iopub.status.busy": "2023-08-27T04:43:16.857383Z",
     "iopub.status.idle": "2023-08-27T04:43:16.866141Z",
     "shell.execute_reply": "2023-08-27T04:43:16.865136Z",
     "shell.execute_reply.started": "2023-08-27T04:43:16.857817Z"
    }
   },
   "outputs": [],
   "source": [
    "# model = spacy.load('ru_core_news_lg')"
   ]
  },
  {
   "cell_type": "code",
   "execution_count": 28,
   "metadata": {
    "execution": {
     "iopub.execute_input": "2023-08-27T04:43:16.868312Z",
     "iopub.status.busy": "2023-08-27T04:43:16.867981Z",
     "iopub.status.idle": "2023-08-27T04:43:16.876053Z",
     "shell.execute_reply": "2023-08-27T04:43:16.875037Z",
     "shell.execute_reply.started": "2023-08-27T04:43:16.868280Z"
    }
   },
   "outputs": [],
   "source": [
    "# text = df.iloc[0].address\n",
    "# print(text)\n",
    "# doc = model(text)\n",
    "# for ent in doc.ents:\n",
    "#     print(ent.text, ent.label_)"
   ]
  },
  {
   "cell_type": "markdown",
   "metadata": {},
   "source": [
    "Нормализация текстов."
   ]
  },
  {
   "cell_type": "code",
   "execution_count": 29,
   "metadata": {
    "execution": {
     "iopub.execute_input": "2023-08-27T04:43:16.878226Z",
     "iopub.status.busy": "2023-08-27T04:43:16.877259Z",
     "iopub.status.idle": "2023-08-27T04:43:16.904754Z",
     "shell.execute_reply": "2023-08-27T04:43:16.903714Z",
     "shell.execute_reply.started": "2023-08-27T04:43:16.878193Z"
    }
   },
   "outputs": [
    {
     "data": {
      "text/html": [
       "<div>\n",
       "<style scoped>\n",
       "    .dataframe tbody tr th:only-of-type {\n",
       "        vertical-align: middle;\n",
       "    }\n",
       "\n",
       "    .dataframe tbody tr th {\n",
       "        vertical-align: top;\n",
       "    }\n",
       "\n",
       "    .dataframe thead th {\n",
       "        text-align: right;\n",
       "    }\n",
       "</style>\n",
       "<table border=\"1\" class=\"dataframe\">\n",
       "  <thead>\n",
       "    <tr style=\"text-align: right;\">\n",
       "      <th></th>\n",
       "      <th>target_id</th>\n",
       "      <th>prefix_id</th>\n",
       "      <th>district_id</th>\n",
       "      <th>house</th>\n",
       "      <th>corpus</th>\n",
       "      <th>liter</th>\n",
       "      <th>is_updated</th>\n",
       "      <th>is_actual</th>\n",
       "      <th>type</th>\n",
       "      <th>municipality_id</th>\n",
       "      <th>...</th>\n",
       "      <th>areatype_id</th>\n",
       "      <th>is_updated_area</th>\n",
       "      <th>is_actual_area</th>\n",
       "      <th>only_name_area</th>\n",
       "      <th>name_areatype</th>\n",
       "      <th>is_updated_areatype</th>\n",
       "      <th>is_actual_areatype</th>\n",
       "      <th>name_district</th>\n",
       "      <th>is_actual_district</th>\n",
       "      <th>target_address</th>\n",
       "    </tr>\n",
       "  </thead>\n",
       "  <tbody>\n",
       "    <tr>\n",
       "      <th>0</th>\n",
       "      <td>56343</td>\n",
       "      <td>11132</td>\n",
       "      <td>35</td>\n",
       "      <td>12</td>\n",
       "      <td>-1</td>\n",
       "      <td>А</td>\n",
       "      <td>True</td>\n",
       "      <td>False</td>\n",
       "      <td>-1</td>\n",
       "      <td>107</td>\n",
       "      <td>...</td>\n",
       "      <td>-1</td>\n",
       "      <td>-1</td>\n",
       "      <td>-1</td>\n",
       "      <td>-1</td>\n",
       "      <td>-1</td>\n",
       "      <td>-1</td>\n",
       "      <td>-1</td>\n",
       "      <td>Пушкинский</td>\n",
       "      <td>True</td>\n",
       "      <td>город Пушкин, Кедринская улица, дом 12</td>\n",
       "    </tr>\n",
       "    <tr>\n",
       "      <th>1</th>\n",
       "      <td>595</td>\n",
       "      <td>6987</td>\n",
       "      <td>38</td>\n",
       "      <td>4Б</td>\n",
       "      <td>-1</td>\n",
       "      <td>-1</td>\n",
       "      <td>True</td>\n",
       "      <td>False</td>\n",
       "      <td>-1</td>\n",
       "      <td>128</td>\n",
       "      <td>...</td>\n",
       "      <td>-1</td>\n",
       "      <td>-1</td>\n",
       "      <td>-1</td>\n",
       "      <td>-1</td>\n",
       "      <td>-1</td>\n",
       "      <td>-1</td>\n",
       "      <td>-1</td>\n",
       "      <td>Курортный</td>\n",
       "      <td>True</td>\n",
       "      <td>пос. Ушково, Пляжевая ул., д. 4Б</td>\n",
       "    </tr>\n",
       "  </tbody>\n",
       "</table>\n",
       "<p>2 rows × 46 columns</p>\n",
       "</div>"
      ],
      "text/plain": [
       "   target_id  prefix_id  district_id house corpus liter  is_updated  \\\n",
       "0      56343      11132           35    12     -1     А        True   \n",
       "1        595       6987           38    4Б     -1    -1        True   \n",
       "\n",
       "   is_actual type  municipality_id  ... areatype_id is_updated_area  \\\n",
       "0      False   -1              107  ...          -1              -1   \n",
       "1      False   -1              128  ...          -1              -1   \n",
       "\n",
       "   is_actual_area  only_name_area  name_areatype is_updated_areatype  \\\n",
       "0              -1              -1             -1                  -1   \n",
       "1              -1              -1             -1                  -1   \n",
       "\n",
       "   is_actual_areatype name_district is_actual_district  \\\n",
       "0                  -1    Пушкинский               True   \n",
       "1                  -1     Курортный               True   \n",
       "\n",
       "                           target_address  \n",
       "0  город Пушкин, Кедринская улица, дом 12  \n",
       "1        пос. Ушково, Пляжевая ул., д. 4Б  \n",
       "\n",
       "[2 rows x 46 columns]"
      ]
     },
     "execution_count": 29,
     "metadata": {},
     "output_type": "execute_result"
    }
   ],
   "source": [
    "df_building.head(2)"
   ]
  },
  {
   "cell_type": "markdown",
   "metadata": {},
   "source": [
    "# Chatter Bot"
   ]
  },
  {
   "cell_type": "code",
   "execution_count": 30,
   "metadata": {
    "execution": {
     "iopub.execute_input": "2023-08-27T04:43:16.906843Z",
     "iopub.status.busy": "2023-08-27T04:43:16.906469Z",
     "iopub.status.idle": "2023-08-27T04:43:16.915146Z",
     "shell.execute_reply": "2023-08-27T04:43:16.914066Z",
     "shell.execute_reply.started": "2023-08-27T04:43:16.906807Z"
    }
   },
   "outputs": [
    {
     "data": {
      "text/plain": [
       "(235916, 46)"
      ]
     },
     "execution_count": 30,
     "metadata": {},
     "output_type": "execute_result"
    }
   ],
   "source": [
    "df_building.shape"
   ]
  },
  {
   "cell_type": "code",
   "execution_count": 38,
   "metadata": {
    "execution": {
     "iopub.execute_input": "2023-08-27T04:52:37.528082Z",
     "iopub.status.busy": "2023-08-27T04:52:37.527634Z",
     "iopub.status.idle": "2023-08-27T04:52:37.533749Z",
     "shell.execute_reply": "2023-08-27T04:52:37.532782Z",
     "shell.execute_reply.started": "2023-08-27T04:52:37.528047Z"
    }
   },
   "outputs": [],
   "source": [
    "# !pip install chatterbot\n",
    "# !pip install chatterbot_corpus"
   ]
  },
  {
   "cell_type": "code",
   "execution_count": 31,
   "metadata": {
    "execution": {
     "iopub.execute_input": "2023-08-27T04:48:34.860287Z",
     "iopub.status.busy": "2023-08-27T04:48:34.859918Z",
     "iopub.status.idle": "2023-08-27T04:48:35.200450Z",
     "shell.execute_reply": "2023-08-27T04:48:35.198486Z",
     "shell.execute_reply.started": "2023-08-27T04:48:34.860251Z"
    }
   },
   "outputs": [
    {
     "name": "stderr",
     "output_type": "stream",
     "text": [
      "[nltk_data] Downloading package averaged_perceptron_tagger to\n",
      "[nltk_data]     C:\\Users\\Максим\\AppData\\Roaming\\nltk_data...\n",
      "[nltk_data]   Package averaged_perceptron_tagger is already up-to-\n",
      "[nltk_data]       date!\n",
      "[nltk_data] Downloading package punkt to\n",
      "[nltk_data]     C:\\Users\\Максим\\AppData\\Roaming\\nltk_data...\n",
      "[nltk_data]   Package punkt is already up-to-date!\n",
      "[nltk_data] Downloading package stopwords to\n",
      "[nltk_data]     C:\\Users\\Максим\\AppData\\Roaming\\nltk_data...\n",
      "[nltk_data]   Package stopwords is already up-to-date!\n"
     ]
    }
   ],
   "source": [
    "from chatterbot import ChatBot\n",
    "from chatterbot.trainers import ListTrainer\n",
    "\n",
    "bot = ChatBot('Bot', read_only=True)\n",
    "\n",
    "chatbot = ChatBot(\n",
    "    \"My ChatterBot\",\n",
    "    storage_adapter=\"chatterbot.storage.MongoDatabaseAdapter\"\n",
    ")\n",
    "\n",
    "chatbotEnglish = ChatBot(\n",
    "    \"english mongodb\",\n",
    "    storage_adapter='chatterbot.storage.MongoDatabaseAdapter',\n",
    "    logic_adapters=['chatterbot.logic.BestMatch' ],\n",
    "    preprocessors = [ 'chatterbot.preprocessors.clean_whitespace', 'chatterbot.preprocessors.unescape_html' ],\n",
    "    filters=[ 'chatterbot.filters.RepetitiveResponseFilter' ],\n",
    "    input_adapter=\"chatterbot.input.VariableInputTypeAdapter\",\n",
    "    output_adapter=\"chatterbot.output.OutputAdapter\",\n",
    "    trainer='chatterbot.trainers.ChatterBotCorpusTrainer',\n",
    "    database='chatterbot-database',\n",
    "    read_only=True\n",
    ")\n",
    "\n",
    "# chatbot = ChatBot(\n",
    "#     'JARVIS',  \n",
    "#     logic_adapters=[\n",
    "#         'chatterbot.logic.BestMatch',\n",
    "#         'chatterbot.logic.TimeLogicAdapter'],\n",
    "# )  "
   ]
  },
  {
   "cell_type": "code",
   "execution_count": 35,
   "metadata": {
    "execution": {
     "iopub.status.busy": "2023-08-27T04:48:35.201185Z",
     "iopub.status.idle": "2023-08-27T04:48:35.201549Z",
     "shell.execute_reply": "2023-08-27T04:48:35.201396Z",
     "shell.execute_reply.started": "2023-08-27T04:48:35.201379Z"
    }
   },
   "outputs": [
    {
     "name": "stdout",
     "output_type": "stream",
     "text": [
      "List Trainer: [####################] 100%\n"
     ]
    }
   ],
   "source": [
    "from chatterbot.trainers import ListTrainer\n",
    "  \n",
    "trainer = ListTrainer(bot)\n",
    "\n",
    "lst = []\n",
    "for idx, row in df_building.iterrows():\n",
    "    lst.append(row['target_address'])\n",
    "    lst.append(str(row['target_id']))\n",
    "\n",
    "trainer.train(lst)"
   ]
  },
  {
   "cell_type": "code",
   "execution_count": 37,
   "metadata": {},
   "outputs": [
    {
     "data": {
      "text/plain": [
       "'56343'"
      ]
     },
     "execution_count": 37,
     "metadata": {},
     "output_type": "execute_result"
    }
   ],
   "source": [
    "lst[1]"
   ]
  },
  {
   "cell_type": "markdown",
   "metadata": {},
   "source": [
    "Тестирование"
   ]
  },
  {
   "cell_type": "code",
   "execution_count": 39,
   "metadata": {},
   "outputs": [
    {
     "name": "stdout",
     "output_type": "stream",
     "text": [
      "(328, 3)\n"
     ]
    },
    {
     "data": {
      "text/html": [
       "<div>\n",
       "<style scoped>\n",
       "    .dataframe tbody tr th:only-of-type {\n",
       "        vertical-align: middle;\n",
       "    }\n",
       "\n",
       "    .dataframe tbody tr th {\n",
       "        vertical-align: top;\n",
       "    }\n",
       "\n",
       "    .dataframe thead th {\n",
       "        text-align: right;\n",
       "    }\n",
       "</style>\n",
       "<table border=\"1\" class=\"dataframe\">\n",
       "  <thead>\n",
       "    <tr style=\"text-align: right;\">\n",
       "      <th></th>\n",
       "      <th>id</th>\n",
       "      <th>address</th>\n",
       "      <th>target_building_id</th>\n",
       "    </tr>\n",
       "  </thead>\n",
       "  <tbody>\n",
       "    <tr>\n",
       "      <th>0</th>\n",
       "      <td>0</td>\n",
       "      <td>197046, Санкт-Петербург (г.), Куйбышева (ул.),...</td>\n",
       "      <td>67206</td>\n",
       "    </tr>\n",
       "    <tr>\n",
       "      <th>1</th>\n",
       "      <td>1</td>\n",
       "      <td>197101, Санкт-Петербург (г.), Красного Курсант...</td>\n",
       "      <td>48868</td>\n",
       "    </tr>\n",
       "    <tr>\n",
       "      <th>2</th>\n",
       "      <td>2</td>\n",
       "      <td>197136, Санкт-Петербург г, Ленина ул, д.20</td>\n",
       "      <td>66919</td>\n",
       "    </tr>\n",
       "    <tr>\n",
       "      <th>3</th>\n",
       "      <td>3</td>\n",
       "      <td>197022, Санкт-Петербург (г.), Санкт-Петербург ...</td>\n",
       "      <td>53075</td>\n",
       "    </tr>\n",
       "    <tr>\n",
       "      <th>4</th>\n",
       "      <td>4</td>\n",
       "      <td>197022, Санкт-Петербург (г.), Санкт-Петербург ...</td>\n",
       "      <td>13759</td>\n",
       "    </tr>\n",
       "  </tbody>\n",
       "</table>\n",
       "</div>"
      ],
      "text/plain": [
       "   id                                            address  target_building_id\n",
       "0   0  197046, Санкт-Петербург (г.), Куйбышева (ул.),...               67206\n",
       "1   1  197101, Санкт-Петербург (г.), Красного Курсант...               48868\n",
       "2   2         197136, Санкт-Петербург г, Ленина ул, д.20               66919\n",
       "3   3  197022, Санкт-Петербург (г.), Санкт-Петербург ...               53075\n",
       "4   4  197022, Санкт-Петербург (г.), Санкт-Петербург ...               13759"
      ]
     },
     "execution_count": 39,
     "metadata": {},
     "output_type": "execute_result"
    }
   ],
   "source": [
    "df_test = pd.read_csv('./test_example.csv', on_bad_lines='skip', sep=';')\n",
    "\n",
    "print(df_test.shape)\n",
    "df_test.head()"
   ]
  },
  {
   "cell_type": "code",
   "execution_count": 62,
   "metadata": {},
   "outputs": [
    {
     "name": "stderr",
     "output_type": "stream",
     "text": [
      "10it [00:53,  5.40s/it]\n"
     ]
    }
   ],
   "source": [
    "lst_results = []\n",
    "\n",
    "for idx, row in tqdm(df_test.tail(10).iterrows()):\n",
    "    result = bot.get_response(row['address'])\n",
    "    lst_results.append(int(result.text))"
   ]
  },
  {
   "cell_type": "code",
   "execution_count": 63,
   "metadata": {},
   "outputs": [
    {
     "data": {
      "text/plain": [
       "[22590, 1576, 23189, 11125, 25283, 965, 34193, 758, 12102, 318]"
      ]
     },
     "execution_count": 63,
     "metadata": {},
     "output_type": "execute_result"
    }
   ],
   "source": [
    "lst_results"
   ]
  },
  {
   "cell_type": "code",
   "execution_count": 64,
   "metadata": {},
   "outputs": [
    {
     "data": {
      "text/plain": [
       "0.2"
      ]
     },
     "execution_count": 64,
     "metadata": {},
     "output_type": "execute_result"
    }
   ],
   "source": [
    "from sklearn.metrics import accuracy_score\n",
    "\n",
    "\n",
    "accuracy_score(lst_results, df_test.tail(10).target_building_id.values)"
   ]
  },
  {
   "cell_type": "markdown",
   "metadata": {},
   "source": [
    "# Преобразования"
   ]
  },
  {
   "cell_type": "code",
   "execution_count": null,
   "metadata": {},
   "outputs": [],
   "source": [
    "!pip install pymorphy2\n",
    "# !python -m spacy download ru_core_news_lg"
   ]
  },
  {
   "cell_type": "code",
   "execution_count": null,
   "metadata": {},
   "outputs": [],
   "source": [
    "from nltk.tokenize import word_tokenize #для токенизации по словам\n",
    "\n",
    "import re\n",
    "from pymorphy2 import MorphAnalyzer\n",
    "from nltk.corpus import stopwords\n",
    "import nltk\n",
    "\n",
    "nltk.download('stopwords')\n",
    "\n",
    "# import spacy"
   ]
  },
  {
   "cell_type": "code",
   "execution_count": null,
   "metadata": {},
   "outputs": [],
   "source": [
    "tmp = df_building[['target_address', 'target_id']]\n",
    "tmp = tmp.drop_duplicates(subset=['target_address'])"
   ]
  },
  {
   "cell_type": "code",
   "execution_count": null,
   "metadata": {},
   "outputs": [],
   "source": [
    "x = tmp.target_address\n",
    "y = tmp.target_id\n",
    "\n",
    "# generate_x = pd.Series(lst_address)\n",
    "# generate_y = pd.Series(lst_idx)\n",
    "\n",
    "# x = pd.concat([x, generate_x], axis=0)\n",
    "# y = pd.concat([y, generate_y], axis=0)"
   ]
  },
  {
   "cell_type": "code",
   "execution_count": null,
   "metadata": {},
   "outputs": [],
   "source": [
    "x.shape"
   ]
  },
  {
   "cell_type": "code",
   "execution_count": null,
   "metadata": {},
   "outputs": [],
   "source": [
    "patterns = \"[A-Za-z!#$%&'()*+/:;,.<=>?@[\\]^_`{|}~\\\"\\-]+\"\n",
    "\n",
    "_stopwords_ru = stopwords.words(\"russian\")\n",
    "stopwords_ru = {}\n",
    "for word in _stopwords_ru:\n",
    "    \n",
    "    if len(word) in stopwords_ru:\n",
    "        stopwords_ru[len(word)].add(word)\n",
    "    else:\n",
    "        stopwords_ru[len(word)] = {word}\n",
    "\n",
    "morph = MorphAnalyzer()\n",
    "\n",
    "\n",
    "def lemmatize(doc):\n",
    "    doc = re.sub(patterns, ' ', doc)\n",
    "    \n",
    "    tokens = []\n",
    "\n",
    "    for token in word_tokenize(doc):\n",
    "\n",
    "        count = len(token)\n",
    "        if token and not (count in stopwords_ru and token in stopwords_ru[count]):\n",
    "            \n",
    "            token = ' ' + token + ' '\n",
    "            \n",
    "            token = token.replace(' д ', 'дом').replace(' ул ', 'улица').replace(' г ', 'город')\n",
    "            token = token.replace('д.', 'дом').replace('ул.', 'улица').replace('г.', 'город')\n",
    "            \n",
    "            token = token.strip()\n",
    "            token = token.lower()\n",
    "            \n",
    "            if token in ('санкт', 'петербург', 'город', 'улица', 'дом', 'посёлок', 'пос', 'пр', 'наб'):\n",
    "                continue\n",
    "            \n",
    "            if count > 2:\n",
    "                token = morph.normal_forms(token)[0]\n",
    "            \n",
    "            tokens.append(token)\n",
    "\n",
    "    string = ' '.join(tokens)\n",
    "    return string"
   ]
  },
  {
   "cell_type": "code",
   "execution_count": null,
   "metadata": {},
   "outputs": [],
   "source": [
    "# TODO: малое кол-во берётся\n",
    "x_norm = x.apply(lemmatize)"
   ]
  },
  {
   "cell_type": "code",
   "execution_count": null,
   "metadata": {},
   "outputs": [],
   "source": [
    "print(x_norm.shape)\n",
    "x_norm.head(10)"
   ]
  },
  {
   "cell_type": "code",
   "execution_count": null,
   "metadata": {},
   "outputs": [],
   "source": [
    "x_norm.iloc[8]"
   ]
  },
  {
   "cell_type": "code",
   "execution_count": null,
   "metadata": {},
   "outputs": [],
   "source": [
    "tmp1 = pd.DataFrame({'target_address': x_norm, 'target_id': y})"
   ]
  },
  {
   "cell_type": "markdown",
   "metadata": {},
   "source": [
    "# Разделение данных на train/valid"
   ]
  },
  {
   "cell_type": "code",
   "execution_count": null,
   "metadata": {},
   "outputs": [],
   "source": [
    "# data_string = x[x.columns].astype(str).apply(lambda x: ';'.join(x), axis = 1)\n",
    "data_string = x_norm\n",
    "data_string.head()"
   ]
  },
  {
   "cell_type": "code",
   "execution_count": null,
   "metadata": {},
   "outputs": [],
   "source": [
    "data_string.shape"
   ]
  },
  {
   "cell_type": "code",
   "execution_count": null,
   "metadata": {},
   "outputs": [],
   "source": [
    "data_string.iloc[2]"
   ]
  },
  {
   "cell_type": "code",
   "execution_count": null,
   "metadata": {},
   "outputs": [],
   "source": [
    "# data_string = data_string[data_string.values != None]"
   ]
  },
  {
   "cell_type": "markdown",
   "metadata": {},
   "source": [
    "# BERT - представления"
   ]
  },
  {
   "cell_type": "markdown",
   "metadata": {},
   "source": [
    "Bert круче"
   ]
  },
  {
   "cell_type": "code",
   "execution_count": null,
   "metadata": {},
   "outputs": [],
   "source": [
    "!pip install -U sentence-transformers"
   ]
  },
  {
   "cell_type": "code",
   "execution_count": null,
   "metadata": {},
   "outputs": [],
   "source": [
    "from sentence_transformers import SentenceTransformer\n",
    "\n",
    "model = SentenceTransformer('sentence-transformers/LaBSE')\n",
    "embeddings = model.encode(data_string.values)"
   ]
  },
  {
   "cell_type": "code",
   "execution_count": null,
   "metadata": {},
   "outputs": [],
   "source": [
    "embeddings.shape"
   ]
  },
  {
   "cell_type": "markdown",
   "metadata": {},
   "source": [
    "# Сохранение модели"
   ]
  },
  {
   "cell_type": "code",
   "execution_count": null,
   "metadata": {},
   "outputs": [],
   "source": [
    "base_data = {}\n",
    "\n",
    "for i in range(embeddings.shape[0]):\n",
    "\n",
    "    target_idx = y.values[i]\n",
    "    emb = embeddings[i]\n",
    "        \n",
    "    if target_idx in base_data:\n",
    "        base_data[target_idx].append(emb)\n",
    "    else:\n",
    "        base_data[target_idx] = [emb]"
   ]
  },
  {
   "cell_type": "code",
   "execution_count": null,
   "metadata": {},
   "outputs": [],
   "source": [
    "import pickle\n",
    "\n",
    "with open('base_data.pkl', 'wb') as f:\n",
    "    pickle.dump(base_data, f)"
   ]
  },
  {
   "cell_type": "code",
   "execution_count": null,
   "metadata": {},
   "outputs": [],
   "source": [
    "import pickle\n",
    "\n",
    "with open('/kaggle/input/hackaton-spb/base_data.pkl', 'rb') as f:\n",
    "    base_data = pickle.load(f)"
   ]
  },
  {
   "cell_type": "markdown",
   "metadata": {},
   "source": [
    "<a href=\"../base_data.pkl\"> Download File </a>"
   ]
  },
  {
   "cell_type": "markdown",
   "metadata": {},
   "source": [
    "<a href=\"../base_data.pkl\"> Download File </a>"
   ]
  },
  {
   "cell_type": "markdown",
   "metadata": {},
   "source": [
    "# Модель"
   ]
  },
  {
   "cell_type": "code",
   "execution_count": null,
   "metadata": {},
   "outputs": [],
   "source": [
    "from sklearn.metrics.pairwise import cosine_similarity\n",
    "\n",
    "\n",
    "def get_similarity_df(base_data: dict, embedding: np.array, k_best: int) -> pd.DataFrame:\n",
    "    \"\"\" Сравнение текущего эмбеддинга с базой данных и поиск k-подходящих\n",
    "    адресов. \"\"\"\n",
    "    \n",
    "    lst_target_building_id = []\n",
    "    lst_value = []\n",
    "    \n",
    "    for target_building_id in base_data.keys():\n",
    "        \n",
    "        for emb in base_data[target_building_id]:\n",
    "            \n",
    "            value = np.dot(emb, embedding) / (np.linalg.norm(emb) * np.linalg.norm(embedding))\n",
    "\n",
    "            lst_target_building_id.append(target_building_id)\n",
    "            lst_value.append(value)\n",
    "        \n",
    "    df_result = pd.DataFrame({'target_building_id': lst_target_building_id, 'value': lst_value})\n",
    "    df_result = df_result.sort_values(by=['value'], ascending=False)\n",
    "    df_result = df_result.head(k_best)\n",
    "    \n",
    "    return df_result"
   ]
  },
  {
   "cell_type": "markdown",
   "metadata": {},
   "source": [
    "# Прогон на тестовой выборке"
   ]
  },
  {
   "cell_type": "code",
   "execution_count": null,
   "metadata": {},
   "outputs": [],
   "source": [
    "df_test = pd.read_csv('/kaggle/input/hackaton-spb/test_example.csv', on_bad_lines='skip', sep=';')\n",
    "\n",
    "print(df_test.shape)\n",
    "df_test.head()"
   ]
  },
  {
   "cell_type": "code",
   "execution_count": null,
   "metadata": {},
   "outputs": [],
   "source": [
    "df_test.address = df_test.address.apply(lemmatize)\n",
    "df_test.head()"
   ]
  },
  {
   "cell_type": "code",
   "execution_count": null,
   "metadata": {},
   "outputs": [],
   "source": [
    "df_test = df_test.head(5)"
   ]
  },
  {
   "cell_type": "code",
   "execution_count": null,
   "metadata": {},
   "outputs": [],
   "source": [
    "embeddings_test = model.encode(df_test.address.values)"
   ]
  },
  {
   "cell_type": "code",
   "execution_count": null,
   "metadata": {},
   "outputs": [],
   "source": [
    "df_test"
   ]
  },
  {
   "cell_type": "code",
   "execution_count": null,
   "metadata": {},
   "outputs": [],
   "source": [
    "import warnings\n",
    "warnings.filterwarnings(\"ignore\")\n",
    "\n",
    "\n",
    "df_valid = pd.DataFrame({'target_building_id': [], 'value': []})\n",
    "\n",
    "for i, emb in enumerate(tqdm(embeddings_test)):\n",
    "    df_tmp = get_similarity_df(base_data, emb, 1)\n",
    "\n",
    "    df_valid = df_valid.append(df_tmp, ignore_index=True)\n",
    "\n",
    "#     if i > 10:\n",
    "#         break\n",
    "\n",
    "df_valid"
   ]
  },
  {
   "cell_type": "code",
   "execution_count": null,
   "metadata": {},
   "outputs": [],
   "source": [
    "df_test"
   ]
  },
  {
   "cell_type": "code",
   "execution_count": null,
   "metadata": {},
   "outputs": [],
   "source": [
    "tmp1[tmp1.target_id == 215395].target_address"
   ]
  },
  {
   "cell_type": "code",
   "execution_count": null,
   "metadata": {},
   "outputs": [],
   "source": [
    "from sklearn.metrics import accuracy_score\n",
    "\n",
    "\n",
    "accuracy_score(df_valid.target_building_id.values, df_test.target_building_id.values)"
   ]
  }
 ],
 "metadata": {
  "kernelspec": {
   "display_name": "Python 3 (ipykernel)",
   "language": "python",
   "name": "python3"
  },
  "language_info": {
   "codemirror_mode": {
    "name": "ipython",
    "version": 3
   },
   "file_extension": ".py",
   "mimetype": "text/x-python",
   "name": "python",
   "nbconvert_exporter": "python",
   "pygments_lexer": "ipython3",
   "version": "3.9.5"
  }
 },
 "nbformat": 4,
 "nbformat_minor": 4
}
